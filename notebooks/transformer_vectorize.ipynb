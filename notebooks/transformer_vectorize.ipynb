{
 "cells": [
  {
   "cell_type": "code",
   "execution_count": 1,
   "id": "82a75f81",
   "metadata": {},
   "outputs": [],
   "source": [
    "import torch\n",
    "from sentence_transformers import SentenceTransformer\n",
    "\n",
    "import nltk\n",
    "import pandas as pd\n",
    "import numpy as np\n",
    "import sqlite3\n",
    "import dill as pickle"
   ]
  },
  {
   "cell_type": "code",
   "execution_count": 2,
   "id": "c298b2eb",
   "metadata": {},
   "outputs": [],
   "source": [
    "conn = sqlite3.connect(\"../cord.db\")"
   ]
  },
  {
   "cell_type": "code",
   "execution_count": 2,
   "id": "4610cc62",
   "metadata": {},
   "outputs": [],
   "source": [
    "df = pd.read_sql_query(\"SELECT title, abstract, authors, body_text FROM cord19\", conn)"
   ]
  },
  {
   "cell_type": "code",
   "execution_count": 3,
   "id": "61e4dfd2",
   "metadata": {},
   "outputs": [
    {
     "data": {
      "text/html": [
       "<div>\n",
       "<style scoped>\n",
       "    .dataframe tbody tr th:only-of-type {\n",
       "        vertical-align: middle;\n",
       "    }\n",
       "\n",
       "    .dataframe tbody tr th {\n",
       "        vertical-align: top;\n",
       "    }\n",
       "\n",
       "    .dataframe thead th {\n",
       "        text-align: right;\n",
       "    }\n",
       "</style>\n",
       "<table border=\"1\" class=\"dataframe\">\n",
       "  <thead>\n",
       "    <tr style=\"text-align: right;\">\n",
       "      <th></th>\n",
       "      <th>title</th>\n",
       "      <th>abstract</th>\n",
       "      <th>authors</th>\n",
       "      <th>body_text</th>\n",
       "    </tr>\n",
       "  </thead>\n",
       "  <tbody>\n",
       "    <tr>\n",
       "      <th>0</th>\n",
       "      <td>Clinical features of culture-proven Mycoplasma...</td>\n",
       "      <td>OBJECTIVE: This retrospective chart review des...</td>\n",
       "      <td>Madani, Tariq A; Al-Ghamdi, Aisha A</td>\n",
       "      <td>Mycoplasma pneumoniae is a common cause of upp...</td>\n",
       "    </tr>\n",
       "    <tr>\n",
       "      <th>1</th>\n",
       "      <td>Nitric oxide: a pro-inflammatory mediator in l...</td>\n",
       "      <td>Inflammatory diseases of the respiratory tract...</td>\n",
       "      <td>Vliet, Albert van der; Eiserich, Jason P; Cros...</td>\n",
       "      <td>Since its discovery as a biological messenger ...</td>\n",
       "    </tr>\n",
       "    <tr>\n",
       "      <th>2</th>\n",
       "      <td>Surfactant protein-D and pulmonary host defense</td>\n",
       "      <td>Surfactant protein-D (SP-D) participates in th...</td>\n",
       "      <td>Crouch, Erika C</td>\n",
       "      <td>Surfactant protein-D (SP-D) is a member of the...</td>\n",
       "    </tr>\n",
       "    <tr>\n",
       "      <th>3</th>\n",
       "      <td>Role of endothelin-1 in lung disease</td>\n",
       "      <td>Endothelin-1 (ET-1) is a 21 amino acid peptide...</td>\n",
       "      <td>Fagan, Karen A; McMurtry, Ivan F; Rodman, David M</td>\n",
       "      <td>from Xenopus laevis [16] . ETA receptors in no...</td>\n",
       "    </tr>\n",
       "    <tr>\n",
       "      <th>4</th>\n",
       "      <td>Gene expression in epithelial cells in respons...</td>\n",
       "      <td>Respiratory syncytial virus (RSV) and pneumoni...</td>\n",
       "      <td>Domachowske, Joseph B; Bonville, Cynthia A; Ro...</td>\n",
       "      <td>RSV and PVM are viruses of the family Paramyxo...</td>\n",
       "    </tr>\n",
       "  </tbody>\n",
       "</table>\n",
       "</div>"
      ],
      "text/plain": [
       "                                               title  \\\n",
       "0  Clinical features of culture-proven Mycoplasma...   \n",
       "1  Nitric oxide: a pro-inflammatory mediator in l...   \n",
       "2    Surfactant protein-D and pulmonary host defense   \n",
       "3               Role of endothelin-1 in lung disease   \n",
       "4  Gene expression in epithelial cells in respons...   \n",
       "\n",
       "                                            abstract  \\\n",
       "0  OBJECTIVE: This retrospective chart review des...   \n",
       "1  Inflammatory diseases of the respiratory tract...   \n",
       "2  Surfactant protein-D (SP-D) participates in th...   \n",
       "3  Endothelin-1 (ET-1) is a 21 amino acid peptide...   \n",
       "4  Respiratory syncytial virus (RSV) and pneumoni...   \n",
       "\n",
       "                                             authors  \\\n",
       "0                Madani, Tariq A; Al-Ghamdi, Aisha A   \n",
       "1  Vliet, Albert van der; Eiserich, Jason P; Cros...   \n",
       "2                                    Crouch, Erika C   \n",
       "3  Fagan, Karen A; McMurtry, Ivan F; Rodman, David M   \n",
       "4  Domachowske, Joseph B; Bonville, Cynthia A; Ro...   \n",
       "\n",
       "                                           body_text  \n",
       "0  Mycoplasma pneumoniae is a common cause of upp...  \n",
       "1  Since its discovery as a biological messenger ...  \n",
       "2  Surfactant protein-D (SP-D) is a member of the...  \n",
       "3  from Xenopus laevis [16] . ETA receptors in no...  \n",
       "4  RSV and PVM are viruses of the family Paramyxo...  "
      ]
     },
     "execution_count": 3,
     "metadata": {},
     "output_type": "execute_result"
    }
   ],
   "source": [
    "df.head()"
   ]
  },
  {
   "cell_type": "code",
   "execution_count": 53,
   "id": "6f8e7df1",
   "metadata": {},
   "outputs": [],
   "source": [
    "titles = df['title']\n",
    "authors = df['authors']\n",
    "document = df['abstract'] + df['body_text']"
   ]
  },
  {
   "cell_type": "code",
   "execution_count": 46,
   "id": "c41ae173",
   "metadata": {},
   "outputs": [
    {
     "data": {
      "application/vnd.jupyter.widget-view+json": {
       "model_id": "07d14de55ef04083bae056d124844ada",
       "version_major": 2,
       "version_minor": 0
      },
      "text/plain": [
       "Downloading:   0%|          | 0.00/391 [00:00<?, ?B/s]"
      ]
     },
     "metadata": {},
     "output_type": "display_data"
    },
    {
     "data": {
      "application/vnd.jupyter.widget-view+json": {
       "model_id": "0a05706730b24b7e95fc443d3a993355",
       "version_major": 2,
       "version_minor": 0
      },
      "text/plain": [
       "Downloading:   0%|          | 0.00/433 [00:00<?, ?B/s]"
      ]
     },
     "metadata": {},
     "output_type": "display_data"
    },
    {
     "data": {
      "application/vnd.jupyter.widget-view+json": {
       "model_id": "94731171eff540d2aa3d008cb1495024",
       "version_major": 2,
       "version_minor": 0
      },
      "text/plain": [
       "Downloading:   0%|          | 0.00/436M [00:00<?, ?B/s]"
      ]
     },
     "metadata": {},
     "output_type": "display_data"
    },
    {
     "data": {
      "application/vnd.jupyter.widget-view+json": {
       "model_id": "06089cafcdeb455098283ce89d837df0",
       "version_major": 2,
       "version_minor": 0
      },
      "text/plain": [
       "Downloading:   0%|          | 0.00/112 [00:00<?, ?B/s]"
      ]
     },
     "metadata": {},
     "output_type": "display_data"
    },
    {
     "data": {
      "application/vnd.jupyter.widget-view+json": {
       "model_id": "52c0ac7716d74c21af7c19310520437a",
       "version_major": 2,
       "version_minor": 0
      },
      "text/plain": [
       "Downloading:   0%|          | 0.00/51.0 [00:00<?, ?B/s]"
      ]
     },
     "metadata": {},
     "output_type": "display_data"
    },
    {
     "data": {
      "application/vnd.jupyter.widget-view+json": {
       "model_id": "f7aa597aede24eeebb037c0fcea3aa10",
       "version_major": 2,
       "version_minor": 0
      },
      "text/plain": [
       "Downloading:   0%|          | 0.00/213k [00:00<?, ?B/s]"
      ]
     },
     "metadata": {},
     "output_type": "display_data"
    },
    {
     "name": "stderr",
     "output_type": "stream",
     "text": [
      "WARNING:root:No sentence-transformers model found with name /home/arnav/.cache/torch/sentence_transformers/monologg_biobert_v1.1_pubmed. Creating a new one with MEAN pooling.\n",
      "Some weights of the model checkpoint at /home/arnav/.cache/torch/sentence_transformers/monologg_biobert_v1.1_pubmed were not used when initializing BertModel: ['cls.predictions.bias', 'cls.predictions.transform.LayerNorm.weight', 'cls.predictions.transform.LayerNorm.bias', 'cls.seq_relationship.weight', 'cls.predictions.decoder.weight', 'cls.predictions.transform.dense.bias', 'cls.seq_relationship.bias', 'cls.predictions.transform.dense.weight']\n",
      "- This IS expected if you are initializing BertModel from the checkpoint of a model trained on another task or with another architecture (e.g. initializing a BertForSequenceClassification model from a BertForPreTraining model).\n",
      "- This IS NOT expected if you are initializing BertModel from the checkpoint of a model that you expect to be exactly identical (initializing a BertForSequenceClassification model from a BertForSequenceClassification model).\n"
     ]
    }
   ],
   "source": [
    "# model = SentenceTransformer('monologg/biobert_v1.1_pubmed')"
   ]
  },
  {
   "cell_type": "code",
   "execution_count": 3,
   "id": "03a2b2f7",
   "metadata": {},
   "outputs": [],
   "source": [
    "with open('../data/biobert.pickle', 'rb') as file :\n",
    "    model = pickle.load(file)\n",
    "\n",
    "if torch.cuda.is_available():\n",
    "    model = model.to(torch.device(\"cuda\"))"
   ]
  },
  {
   "cell_type": "code",
   "execution_count": 56,
   "id": "9e9fdc48",
   "metadata": {
    "scrolled": true
   },
   "outputs": [
    {
     "data": {
      "application/vnd.jupyter.widget-view+json": {
       "model_id": "62b36f1051f2449d829185e7eed497e7",
       "version_major": 2,
       "version_minor": 0
      },
      "text/plain": [
       "Batches:   0%|          | 0/144 [00:00<?, ?it/s]"
      ]
     },
     "metadata": {},
     "output_type": "display_data"
    }
   ],
   "source": [
    "title_embeddings = model.encode(titles, show_progress_bar=True)"
   ]
  },
  {
   "cell_type": "code",
   "execution_count": 61,
   "id": "3aeab52f",
   "metadata": {},
   "outputs": [
    {
     "data": {
      "application/vnd.jupyter.widget-view+json": {
       "model_id": "182cfe6e4bd24301ac2999b6237a4b96",
       "version_major": 2,
       "version_minor": 0
      },
      "text/plain": [
       "Batches:   0%|          | 0/144 [00:00<?, ?it/s]"
      ]
     },
     "metadata": {},
     "output_type": "display_data"
    }
   ],
   "source": [
    "document_embeddings = model.encode(document, show_progress_bar=True) # 5 mins"
   ]
  },
  {
   "cell_type": "code",
   "execution_count": 60,
   "id": "ad3d43bc",
   "metadata": {},
   "outputs": [],
   "source": [
    "with open('data/title_embeddings.pickle', 'wb') as file :\n",
    "    pickle.dump(title_embeddings, file)"
   ]
  },
  {
   "cell_type": "code",
   "execution_count": 63,
   "id": "e63ebed1",
   "metadata": {},
   "outputs": [],
   "source": [
    "with open('data/document_embeddings.pickle', 'wb') as file :\n",
    "    pickle.dump(document_embeddings, file)"
   ]
  },
  {
   "cell_type": "code",
   "execution_count": 4,
   "id": "d5a2e858",
   "metadata": {},
   "outputs": [
    {
     "data": {
      "application/vnd.jupyter.widget-view+json": {
       "model_id": "6352321854464d7db81e4aa19b26e636",
       "version_major": 2,
       "version_minor": 0
      },
      "text/plain": [
       "Batches:   0%|          | 0/10 [00:00<?, ?it/s]"
      ]
     },
     "metadata": {},
     "output_type": "display_data"
    },
    {
     "data": {
      "application/vnd.jupyter.widget-view+json": {
       "model_id": "536eb3ccb2db4b7bb3ef433c9602133b",
       "version_major": 2,
       "version_minor": 0
      },
      "text/plain": [
       "Batches:   0%|          | 0/10 [00:00<?, ?it/s]"
      ]
     },
     "metadata": {},
     "output_type": "display_data"
    }
   ],
   "source": [
    "#for relevant_factors table\n",
    "df = pd.read_sql_query(\"SELECT Study, Factors, Excerpt FROM relevant_factors\", conn)\n",
    "\n",
    "study_title = df['Study'].map(str)\n",
    "study_text = df['Factors'].map(str) + df['Excerpt'].map(str)\n",
    "\n",
    "study_title_embeddings = model.encode(study_title, show_progress_bar=True) \n",
    "study_text_embeddings = model.encode(study_text, show_progress_bar=True)\n",
    "\n",
    "with open('../data/study_title_embeddings.pickle', 'wb') as file :\n",
    "    pickle.dump(study_title_embeddings, file)\n",
    "\n",
    "with open('../data/study_text_embeddings.pickle', 'wb') as file :\n",
    "    pickle.dump(study_text_embeddings, file)\n"
   ]
  },
  {
   "cell_type": "code",
   "execution_count": 5,
   "id": "a1d27128",
   "metadata": {},
   "outputs": [
    {
     "data": {
      "application/vnd.jupyter.widget-view+json": {
       "model_id": "5e31e53c1a974a36902e6d83980c44c3",
       "version_major": 2,
       "version_minor": 0
      },
      "text/plain": [
       "Batches:   0%|          | 0/6 [00:00<?, ?it/s]"
      ]
     },
     "metadata": {},
     "output_type": "display_data"
    },
    {
     "data": {
      "application/vnd.jupyter.widget-view+json": {
       "model_id": "1ab21af9ac8442a2a82b78425ab38c95",
       "version_major": 2,
       "version_minor": 0
      },
      "text/plain": [
       "Batches:   0%|          | 0/6 [00:00<?, ?it/s]"
      ]
     },
     "metadata": {},
     "output_type": "display_data"
    }
   ],
   "source": [
    "#for symptoms table\n",
    "df = pd.read_sql_query(\"SELECT Study, Excerpt FROM symptoms\", conn)\n",
    "\n",
    "symptoms_study_title = df['Study'].map(str)\n",
    "symptoms_study_text = df['Excerpt'].map(str)\n",
    "\n",
    "symptoms_study_title_embeddings = model.encode(symptoms_study_title, show_progress_bar=True) \n",
    "symptoms_study_text_embeddings = model.encode(symptoms_study_text, show_progress_bar=True)\n",
    "\n",
    "with open('../data/symptoms_study_title_embeddings.pickle', 'wb') as file :\n",
    "    pickle.dump(symptoms_study_title_embeddings, file)\n",
    "\n",
    "with open('../data/symptoms_study_text_embeddings.pickle', 'wb') as file :\n",
    "    pickle.dump(symptoms_study_text_embeddings, file)\n"
   ]
  },
  {
   "cell_type": "code",
   "execution_count": null,
   "id": "f2284196",
   "metadata": {},
   "outputs": [],
   "source": []
  }
 ],
 "metadata": {
  "kernelspec": {
   "display_name": "deep-learning",
   "language": "python",
   "name": "deep-learning"
  },
  "language_info": {
   "codemirror_mode": {
    "name": "ipython",
    "version": 3
   },
   "file_extension": ".py",
   "mimetype": "text/x-python",
   "name": "python",
   "nbconvert_exporter": "python",
   "pygments_lexer": "ipython3",
   "version": "3.9.4"
  }
 },
 "nbformat": 4,
 "nbformat_minor": 5
}

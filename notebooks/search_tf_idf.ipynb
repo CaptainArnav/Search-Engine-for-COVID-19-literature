{
 "cells": [
  {
   "cell_type": "code",
   "execution_count": 22,
   "id": "8e65091d",
   "metadata": {},
   "outputs": [],
   "source": [
    "import nltk\n",
    "from nltk.stem import WordNetLemmatizer\n",
    "from sklearn.metrics.pairwise import cosine_similarity"
   ]
  },
  {
   "cell_type": "code",
   "execution_count": 45,
   "id": "16bae233",
   "metadata": {},
   "outputs": [],
   "source": [
    "import pandas as pd\n",
    "import numpy as np\n",
    "import dill as pickle\n",
    "import sqlite3"
   ]
  },
  {
   "cell_type": "code",
   "execution_count": 46,
   "id": "b9ec02e2",
   "metadata": {},
   "outputs": [],
   "source": [
    "con = sqlite3.connect(\"cord.db\")\n",
    "df = pd.read_sql_query(\"SELECT title, abstract, authors, body_text FROM cord19\", con)"
   ]
  },
  {
   "cell_type": "code",
   "execution_count": 24,
   "id": "02988682",
   "metadata": {},
   "outputs": [],
   "source": [
    "with open('data/vectorizer.pickle', 'rb') as file:\n",
    "    vectorizer = pickle.load(file)\n",
    "    \n",
    "with open('data/title_tf_idf.pickle', 'rb') as file:\n",
    "    title_tf_idf = pickle.load(file)\n",
    "    \n",
    "with open('data/document_tf_idf.pickle', 'rb') as file:\n",
    "    document_tf_idf = pickle.load(file)"
   ]
  },
  {
   "cell_type": "code",
   "execution_count": 25,
   "id": "b8c84e21",
   "metadata": {},
   "outputs": [],
   "source": [
    "title_weight = 0.65\n",
    "document_weight = 1 - title_weight"
   ]
  },
  {
   "cell_type": "code",
   "execution_count": 76,
   "id": "d6e38ecd",
   "metadata": {},
   "outputs": [],
   "source": [
    "query = ['what is the cause of diseases']"
   ]
  },
  {
   "cell_type": "code",
   "execution_count": 77,
   "id": "aa3a7c09",
   "metadata": {},
   "outputs": [],
   "source": [
    "query_tf_idf = vectorizer.transform(query)"
   ]
  },
  {
   "cell_type": "code",
   "execution_count": 78,
   "id": "50e6f778",
   "metadata": {},
   "outputs": [
    {
     "name": "stdout",
     "output_type": "stream",
     "text": [
      "  (0, 1134)\t0.5900447257457995\n",
      "  (0, 560)\t0.8073705602878793\n"
     ]
    }
   ],
   "source": [
    "print(query_tf_idf)"
   ]
  },
  {
   "cell_type": "code",
   "execution_count": 86,
   "id": "164a2466",
   "metadata": {},
   "outputs": [],
   "source": [
    "sim = title_weight * cosine_similarity(title_tf_idf, query_tf_idf) + document_weight * cosine_similarity(document_tf_idf, query_tf_idf) "
   ]
  },
  {
   "cell_type": "code",
   "execution_count": 87,
   "id": "b81cea0b",
   "metadata": {},
   "outputs": [
    {
     "name": "stdout",
     "output_type": "stream",
     "text": [
      "2118\n"
     ]
    }
   ],
   "source": [
    "print(sim.argmax())"
   ]
  },
  {
   "cell_type": "code",
   "execution_count": 88,
   "id": "c8cb8aaf",
   "metadata": {},
   "outputs": [
    {
     "data": {
      "text/plain": [
       "'Tropheryma whipplei as a Cause of Epidemic Fever, Senegal, 2010–2012'"
      ]
     },
     "execution_count": 88,
     "metadata": {},
     "output_type": "execute_result"
    }
   ],
   "source": [
    "df.iloc[sim.argmax()]['title']"
   ]
  },
  {
   "cell_type": "code",
   "execution_count": 89,
   "id": "b9fbafbf",
   "metadata": {},
   "outputs": [
    {
     "data": {
      "text/plain": [
       "'The bacterium Tropheryma whipplei, which causes Whipple disease in humans, is commonly detected in the feces of persons in Africa. It is also associated with acute infections. We investigated the role of T. whipplei in febrile patients from 2 rural villages in Senegal. During June 2010–March 2012, we collected whole-blood finger-prick samples from 786 febrile and 385 healthy villagers. T. whipplei was detected in blood specimens from 36 (4.6%) of the 786 febrile patients and in 1 (0.25%) of the 385 apparently healthy persons. Of the 37 T. whipplei cases, 26 (70.2%) were detected in August 2010. Familial cases and a potential new genotype were observed. The patients’ symptoms were mainly headache (68.9%) and cough (36.1%). Our findings suggest that T. whipplei is a cause of epidemic fever in Senegal.'"
      ]
     },
     "execution_count": 89,
     "metadata": {},
     "output_type": "execute_result"
    }
   ],
   "source": [
    "df.iloc[sim.argmax()]['abstract']"
   ]
  },
  {
   "cell_type": "code",
   "execution_count": 90,
   "id": "b38dec1d",
   "metadata": {},
   "outputs": [
    {
     "data": {
      "text/plain": [
       "\"D etermining the etiologic causes of febrile illness in tropical settings provides public health and local community benefits. In the context of a decline in malaria cases in many parts of sub-Saharan Africa, the few studies that have been conducted in recent years to analyze the burden of bacterial infections used traditional blood cultures and identified typhoid fever and Streptococcus pneumoniae as the leading documented causes of nonmalarial bloodstream infections (1) (2) (3) . However, this method does not enable the identification of intracellular organisms, and most causes of fever remain unknown. In 2008, we initiated a study of the etiologies of fevers of unknown origin in Africa, particularly in Senegal. Our preliminary studies showed the presence of previously known pathogenic microorganisms, such as Borrelia crocidurae, Rickettsia felis, R. conorii, and Coxiella burnetii, and the unexpected presence of Tropheryma whipplei (4) (5) (6) (7) (8) (9) .T. whipplei was first considered to be an uncommon bacterium that causes Whipple disease, a rare chronic disease (10) . However, T. whipplei is in fact a common bacterium associated with various conditions, such as acute infections (pneumonia and gastroenteritis) and chronic infections (classic Whipple disease and other infections without digestive involvement, including endocarditis and encephalitis) (10) (11) (12) (13) (14) (15) (16) (17) (18) (19) . T. whipplei can also be carried in human feces and, less commonly, in the saliva (20) (21) (22) (23) ; carriage prevalence varies by the age and exposure of the population and by geographic area (21) (22) (23) (24) (25) (26) (27) (28) (29) (30) .T. whipplei is highly prevalent in rural Senegal, where carriage rates reach 75% among children <2 years of age, and overall seroprevalence is 72% (21) (22) (23) (24) (25) (26) . In our preliminary study in Senegal, which was conducted in 2 villages (Dielmo and Ndiop) during December 2008-July 2009, we detected T. whipplei bacteremia in 6.4% of the analyzed specimens (8) . Bacteremia was significantly associated with cough, but no link to feces carriage was observed (8) . However, our study had several limitations, such as a small number of febrile patients, no local control group of afebrile persons, and a short study period. In this same area, we recently showed that humans comprise the only source of T. whipplei among the populations in whom the bacterium is highly prevalent. Moreover, our findings showed that limited access to toilets and exposure to human feces was associated with the high prevalence of T. whipplei, suggesting that these conditions may facilitate fecal-oral transmission of the bacterium (31) . To better characterize T. whipplei bacteremia, we extended our analysis, beginning in 2010, in this same area of rural Senegal to include the collection of >1,000 blood samples from healthy persons and ambulatory patients with acute fever.We conducted the study during June 2010-March 2012 in Senegal's rural Sine-Saloum area, a dry sahelian ecosystem with 2 typical seasons: dry (November-May) and rainy (June-October). We obtained written consent for every person included in the study. The National Ethics Committee of Senegal approved the study. (8) .\""
      ]
     },
     "execution_count": 90,
     "metadata": {},
     "output_type": "execute_result"
    }
   ],
   "source": [
    "df.iloc[sim.argmax()]['body_text']"
   ]
  },
  {
   "cell_type": "code",
   "execution_count": null,
   "id": "801e83f4",
   "metadata": {},
   "outputs": [],
   "source": []
  }
 ],
 "metadata": {
  "kernelspec": {
   "display_name": "deep-learning",
   "language": "python",
   "name": "deep-learning"
  },
  "language_info": {
   "codemirror_mode": {
    "name": "ipython",
    "version": 3
   },
   "file_extension": ".py",
   "mimetype": "text/x-python",
   "name": "python",
   "nbconvert_exporter": "python",
   "pygments_lexer": "ipython3",
   "version": "3.9.4"
  }
 },
 "nbformat": 4,
 "nbformat_minor": 5
}
